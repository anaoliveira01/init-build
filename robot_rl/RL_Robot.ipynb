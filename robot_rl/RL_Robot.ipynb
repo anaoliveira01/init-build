{
  "nbformat": 4,
  "nbformat_minor": 0,
  "metadata": {
    "colab": {
      "provenance": [],
      "gpuType": "T4",
      "authorship_tag": "ABX9TyOuiHT+OxxKnwjxlkiu45Jc",
      "include_colab_link": true
    },
    "kernelspec": {
      "name": "python3",
      "display_name": "Python 3"
    },
    "language_info": {
      "name": "python"
    },
    "accelerator": "GPU"
  },
  "cells": [
    {
      "cell_type": "markdown",
      "metadata": {
        "id": "view-in-github",
        "colab_type": "text"
      },
      "source": [
        "<a href=\"https://colab.research.google.com/github/jamesjbustos/init-build/blob/main/robot_rl/RL_Robot.ipynb\" target=\"_parent\"><img src=\"https://colab.research.google.com/assets/colab-badge.svg\" alt=\"Open In Colab\"/></a>"
      ]
    },
    {
      "cell_type": "markdown",
      "source": [
        "<h1 style=\"text-align:center\">RL Robot</h1>\n",
        "\n",
        "---\n",
        "\n",
        "<p style=\"text-align:center\">\n",
        "    <strong>Author:</strong> <a href=\"https://github.com/jamesjbustos\">James Bustos</a>\n",
        "</p>\n",
        "<p style=\"text-align:center\">\n",
        "    <strong>Reference:</strong><br>\n",
        "    <em>Google Brax</em>. GitHub repository. <a href=\"https://github.com/google/brax\">https://github.com/google/brax</a>\n",
        "</p>\n",
        "<p style=\"text-align:center\">\n",
        "    <strong>Date & Topics:</strong><br>\n",
        "    <time\">November 14, 2024</time> | <span>Google Brax, Mujco, and RL</span>\n",
        "    <br><br>  \n",
        "</p>"
      ],
      "metadata": {
        "id": "CYsFW4ShAoLn"
      }
    },
    {
      "cell_type": "markdown",
      "source": [
        "## Prerequisites"
      ],
      "metadata": {
        "id": "RFBTDFPtBHw9"
      }
    },
    {
      "cell_type": "code",
      "execution_count": null,
      "metadata": {
        "id": "Xo3tXKXZ8T_9"
      },
      "outputs": [],
      "source": [
        "import functools\n",
        "import jax\n",
        "import os\n",
        "\n",
        "from datetime import datetime\n",
        "from jax import numpy as jp\n",
        "import matplotlib.pyplot as plt\n",
        "\n",
        "from IPython.display import HTML, clear_output\n",
        "\n",
        "try:\n",
        "  import brax\n",
        "except ImportError:\n",
        "  !pip install git+https://github.com/google/brax.git@main\n",
        "  clear_output()\n",
        "  import brax\n",
        "\n",
        "import flax\n",
        "from brax import envs\n",
        "from brax.io import model\n",
        "from brax.io import json\n",
        "from brax.io import html\n",
        "from brax.training.agents.ppo import train as ppo\n",
        "from brax.training.agents.sac import train as sac\n",
        "\n",
        "if 'COLAB_TPU_ADDR' in os.environ:\n",
        "  from jax.tools import colab_tpu\n",
        "  colab_tpu.setup_tpu()"
      ]
    },
    {
      "cell_type": "markdown",
      "source": [
        "## Setting up Brax environment"
      ],
      "metadata": {
        "id": "12Sc7qsbCBCO"
      }
    },
    {
      "cell_type": "code",
      "source": [
        "from brax.generalized import pipeline\n",
        "from brax.io import mjcf\n",
        "m = mjcf.loads(\n",
        "    \"\"\"<mujoco>\n",
        "         <option timestep=\"0.005\"/>\n",
        "         <worldbody>\n",
        "           <body pos=\"0 0 3\">\n",
        "             <joint type=\"free\"/>\n",
        "             <geom size=\"1 1 1\" type=\"box\"/>\n",
        "           </body>\n",
        "           <geom size=\"40 40 40\" type=\"plane\"/>\n",
        "         </worldbody>\n",
        "       </mujoco>\n",
        "  \"\"\")\n",
        "\n",
        "jit_env_reset = jax.jit(pipeline.init)\n",
        "jit_env_step = jax.jit(pipeline.step)\n",
        "\n",
        "rollout = []\n",
        "rng = jax.random.PRNGKey(seed=1)\n",
        "state = jit_env_reset(m, m.init_q, jp.zeros(m.qd_size()))\n",
        "for i in range(500):\n",
        "  rollout.append(state)\n",
        "  act = 10 * jp.sin(i / 100) * jp.ones(m.act_size())\n",
        "  state = jit_env_step(m, state, act)\n",
        "\n",
        "HTML(html.render(m, rollout))\n"
      ],
      "metadata": {
        "colab": {
          "base_uri": "https://localhost:8080/",
          "height": 480
        },
        "id": "F20j6QpK8ba1",
        "outputId": "b8eba986-fb42-426b-acc0-b45e3c6ff662"
      },
      "execution_count": null,
      "outputs": [
        {
          "output_type": "execute_result",
          "data": {
            "text/plain": [
              "<IPython.core.display.HTML object>"
            ],
            "text/html": [
              "<!DOCTYPE html>\n",
              "<html>\n",
              "\n",
              "  <head>\n",
              "    <title>Brax visualizer</title>\n",
              "    <link rel=\"shortcut icon\" type=\"image/x-icon\" href=\"/favicon.ico\">\n",
              "  </head>\n",
              "\n",
              "  <style>\n",
              "    body {\n",
              "      margin: 0;\n",
              "      padding: 0;\n",
              "    }\n",
              "\n",
              "    #brax-viewer {\n",
              "      height: 480px;\n",
              "      margin: 0;\n",
              "      padding: 0;\n",
              "    }\n",
              "  </style>\n",
              "  <script async src=\"https://unpkg.com/es-module-shims@1.6.3/dist/es-module-shims.js\"></script>\n",
              "\n",
              "  <script type=\"importmap\">\n",
              "    {\n",
              "      \"imports\": {\n",
              "        \"three\": \"https://unpkg.com/three@0.150.1/build/three.module.js\",\n",
              "        \"three/addons/\": \"https://unpkg.com/three@0.150.1/examples/jsm/\",\n",
              "        \"lilgui\": \"https://cdn.jsdelivr.net/npm/lil-gui@0.18.0/+esm\",\n",
              "        \"viewer\": \"https://cdn.jsdelivr.net/gh/google/brax@v0.11.0/brax/visualizer/js/viewer.js\"\n",
              "      }\n",
              "    }\n",
              "  </script>\n",
              "\n",
              "  <script src=\"https://unpkg.com/pako@2.1.0/dist/pako.min.js\"></script>\n",
              "\n",
              "  <script type=\"application/javascript\">\n",
              "  var system = \"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\";\n",
              "  // decode base64 (convert ascii to binary)\n",
              "  system = atob(system);\n",
              "  // convert binary string to character-number array\n",
              "  system = system.split('').map(function(x){return x.charCodeAt(0);});\n",
              "  // decompress\n",
              "  system = pako.inflate(system);\n",
              "  // convert gunzipped byteArray back to ascii string\n",
              "  system = new TextDecoder(\"utf-8\").decode(system);\n",
              "  // and load json\n",
              "  system = JSON.parse(system);\n",
              "  </script>\n",
              "\n",
              "  <body>\n",
              "\n",
              "    <div id=\"brax-viewer\"></div>\n",
              "\n",
              "    <script type=\"module\">\n",
              "      import {Viewer} from 'viewer';\n",
              "      const domElement = document.getElementById(\"brax-viewer\");\n",
              "      var viewer = new Viewer(domElement, system);\n",
              "    </script>\n",
              "\n",
              "  </body>\n",
              "\n",
              "</html>"
            ]
          },
          "metadata": {},
          "execution_count": 8
        }
      ]
    },
    {
      "cell_type": "code",
      "source": [
        "!git clone https://github.com/jamesjbustos/init-build.git\n",
        "! cd init-build"
      ],
      "metadata": {
        "id": "yHFe0BTD5rAW",
        "colab": {
          "base_uri": "https://localhost:8080/"
        },
        "outputId": "108f8a54-5565-4554-f756-5eadcc0b7cdb"
      },
      "execution_count": 2,
      "outputs": [
        {
          "output_type": "stream",
          "name": "stdout",
          "text": [
            "Cloning into 'init-build'...\n",
            "remote: Enumerating objects: 239, done.\u001b[K\n",
            "remote: Counting objects: 100% (186/186), done.\u001b[K\n",
            "remote: Compressing objects: 100% (149/149), done.\u001b[K\n",
            "remote: Total 239 (delta 70), reused 137 (delta 28), pack-reused 53 (from 1)\u001b[K\n",
            "Receiving objects: 100% (239/239), 110.70 MiB | 30.54 MiB/s, done.\n",
            "Resolving deltas: 100% (82/82), done.\n",
            "Updating files: 100% (39/39), done.\n"
          ]
        }
      ]
    },
    {
      "cell_type": "code",
      "source": [
        "import os"
      ],
      "metadata": {
        "id": "xxsxVVnOhpmy"
      },
      "execution_count": 3,
      "outputs": []
    },
    {
      "cell_type": "code",
      "source": [
        "os.chdir(\"init-build/robot_rl\")"
      ],
      "metadata": {
        "id": "D2fXF2gehx9Q"
      },
      "execution_count": 3,
      "outputs": []
    },
    {
      "cell_type": "code",
      "source": [],
      "metadata": {
        "id": "slVSEYyshySp"
      },
      "execution_count": null,
      "outputs": []
    }
  ]
}